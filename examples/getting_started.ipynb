{
 "cells": [
  {
   "cell_type": "code",
   "execution_count": null,
   "id": "d6472324",
   "metadata": {},
   "outputs": [],
   "source": [
    "from dotenv import load_dotenv\n",
    "import os\n",
    "\n",
    "from atmospy.client import WeatherClient\n",
    "\n",
    "load_dotenv()\n",
    "\n",
    "# Creating client WeatherClient with your api key | Get one at https://www.weatherapi.com/\n",
    "client = WeatherClient(api_key=os.getenv('API_KEY'))\n",
    "\n",
    "# Get the current weather in Paris \n",
    "current_weather_result = client.get_current_weather('Paris')\n",
    "\n",
    "# Get temperature in degrees Celsius\n",
    "print(current_weather_result.current.temp_c)\n",
    "\n",
    "# Get the forecast in Caracas city\n",
    "foreacast_result = client.get_forecast(city_name='Caracas', days=5, dt='2025-10-10')\n",
    "\n",
    "# Get maximum temperature in degrees Celsius\n",
    "print(foreacast_result.forecast.forecastday[0]['day']['maxtemp_c'])\n"
   ]
  }
 ],
 "metadata": {
  "kernelspec": {
   "display_name": ".venv",
   "language": "python",
   "name": "python3"
  },
  "language_info": {
   "codemirror_mode": {
    "name": "ipython",
    "version": 3
   },
   "file_extension": ".py",
   "mimetype": "text/x-python",
   "name": "python",
   "nbconvert_exporter": "python",
   "pygments_lexer": "ipython3",
   "version": "3.13.6"
  }
 },
 "nbformat": 4,
 "nbformat_minor": 5
}
